{
 "cells": [
  {
   "cell_type": "code",
   "execution_count": 2,
   "metadata": {},
   "outputs": [],
   "source": [
    "import numpy as np\n",
    "import pandas as pd\n",
    "import math as math\n",
    "import matplotlib.pyplot as plt \n",
    "import random as rnd"
   ]
  },
  {
   "cell_type": "code",
   "execution_count": 3,
   "metadata": {},
   "outputs": [],
   "source": [
    "# MEDHODS"
   ]
  },
  {
   "cell_type": "code",
   "execution_count": 4,
   "metadata": {},
   "outputs": [],
   "source": [
    "# standardize the dataset\n",
    "def standardize(data):\n",
    "    X = data[:,0]\n",
    "    Y = data[:,1]\n",
    "    \n",
    "    X = (X - np.mean(X))/np.std(X)\n",
    "    Y = (Y - np.mean(Y))/np.std(Y)\n",
    "    \n",
    "    result = np.zeros(data.shape)\n",
    "    result[:,0] = X\n",
    "    result[:,1] = Y \n",
    "    return result"
   ]
  },
  {
   "cell_type": "code",
   "execution_count": 5,
   "metadata": {},
   "outputs": [],
   "source": [
    "## Simple perceptron \n",
    "def perceptron( epoc, rate, moment, data):\n",
    "    \n",
    "    data_length = data.shape[0] # extract data dimensions\n",
    "\n",
    "    # create weights matrix \n",
    "    W = np.zeros(2)\n",
    "    w1, w2  = W\n",
    "    dV1, dV2 = 0, 0\n",
    "\n",
    "    for e in range(epoc):\n",
    "\n",
    "        # Calcluate weights \n",
    "        dW2 = (1/data_length)*np.sum((data[:,0]*w1 + w2)- data[:,1])\n",
    "        dW1 = (1/data_length)*np.sum(np.multiply((data[:,0]*w1 + w2), data[:,0]) - np.multiply(data[:,1], data[:,0]))\n",
    "\n",
    "        # Update gradients\n",
    "        \n",
    "        if e == 0: # initialization of momentum in first iteration \n",
    "            dV1 = dW1\n",
    "            dV2 = dW2\n",
    "        \n",
    "        # Update wights according with momentum\n",
    "        dV2 = moment*dV2 + (1-moment)*dW2\n",
    "        dV1 = moment*dV1 + (1-moment)*dW1\n",
    "\n",
    "        # Update weights\n",
    "        w1 = w1 - rate*dV1\n",
    "        w2 = w2 - rate*dV2\n",
    "\n",
    "\n",
    "    W[0] = w1\n",
    "    W[1] = w2 \n",
    "\n",
    "    return W; "
   ]
  },
  {
   "cell_type": "code",
   "execution_count": 12,
   "metadata": {},
   "outputs": [],
   "source": [
    "def plot_perceptron_result(data,W,plot_title):\n",
    "    \n",
    "    #Plot the data\n",
    "    sort_ind_data = np.argsort( data[:,0] )\n",
    "    plt.figure()\n",
    "    plt.plot(data[:,0][sort_ind_data], data[:,1][sort_ind_data], \"o\")\n",
    "    \n",
    "    x_approx = np.arange(np.amin(data[:,0]), np.amax(data[:,0]), 0.1)\n",
    "    y_approx = x_approx*W[0] + W[1]\n",
    "    \n",
    "    plt.plot(x_approx,y_approx)\n",
    "    plt.title(plot_title)"
   ]
  },
  {
   "cell_type": "code",
   "execution_count": 7,
   "metadata": {},
   "outputs": [],
   "source": [
    "# TEST"
   ]
  },
  {
   "cell_type": "code",
   "execution_count": 8,
   "metadata": {},
   "outputs": [],
   "source": [
    "#Read data \n",
    "train = np.array( pd.read_csv(\"train.txt\", header = None, delim_whitespace=True, skipinitialspace=True),dtype=np.double)\n",
    "test = np.array( pd.read_csv(\"test.txt\", header = None, delim_whitespace=True, skipinitialspace=True),dtype=np.double)\n",
    "\n",
    "# Standardize the data\n",
    "train = standardize(train)\n",
    "test = standardize(test)"
   ]
  },
  {
   "cell_type": "code",
   "execution_count": null,
   "metadata": {},
   "outputs": [],
   "source": []
  },
  {
   "cell_type": "code",
   "execution_count": 9,
   "metadata": {},
   "outputs": [],
   "source": [
    "#Fir the dataset\n",
    "W = perceptron( 100, 0.01, 0, train)"
   ]
  },
  {
   "cell_type": "code",
   "execution_count": 13,
   "metadata": {},
   "outputs": [
    {
     "data": {
      "image/png": "[encoded data removed]",
      "text/plain": [
       "<Figure size 432x288 with 1 Axes>"
      ]
     },
     "metadata": {
      "needs_background": "light"
     },
     "output_type": "display_data"
    },
    {
     "data": {
      "image/png": "[encoded data removed]",
      "text/plain": [
       "<Figure size 432x288 with 1 Axes>"
      ]
     },
     "metadata": {
      "needs_background": "light"
     },
     "output_type": "display_data"
    }
   ],
   "source": [
    "# Plot the fit on training data\n",
    "plot_perceptron_result( test, W, 'Training Data')\n",
    "plot_perceptron_result( train, W, 'Test Data')"
   ]
  },
  {
   "cell_type": "code",
   "execution_count": null,
   "metadata": {},
   "outputs": [],
   "source": []
  }
 ],
 "metadata": {
  "kernelspec": {
   "display_name": "Python 3",
   "language": "python",
   "name": "python3"
  },
  "language_info": {
   "codemirror_mode": {
    "name": "ipython",
    "version": 3
   },
   "file_extension": ".py",
   "mimetype": "text/x-python",
   "name": "python",
   "nbconvert_exporter": "python",
   "pygments_lexer": "ipython3",
   "version": "3.7.3"
  }
 },
 "nbformat": 4,
 "nbformat_minor": 2
}
